{
 "cells": [
  {
   "cell_type": "markdown",
   "metadata": {},
   "source": [
    "# Analyze Tweets (Numeric)\n",
    "\n",
    "\n",
    "This Python notebook describes the process of analyzing the tweets after they were annotated. We begin with `users_infected_diffusion.graphml`, the graph we had after we ran the diffusion, and `annotated.csv` with the results from the crowdfunding annotation. \n",
    "\n",
    "First we create a graph with the annotated \"hate\" label:"
   ]
  },
  {
   "cell_type": "code",
   "execution_count": null,
   "metadata": {},
   "outputs": [],
   "source": [
    "# 1_annotated_graph\n",
    "import networkx as nx\n",
    "import csv\n",
    "\n",
    "f = open(\"../data/annotated.csv\", \"r\")\n",
    "csv_writer = csv.DictReader(f)\n",
    "\n",
    "set_users = dict()\n",
    "\n",
    "for line in csv_writer:\n",
    "    if line[\"hate\"] == '1':\n",
    "        set_users[line[\"user_id\"]] = 1\n",
    "    elif line[\"hate\"] == \"0\":\n",
    "        set_users[line[\"user_id\"]] = 0\n",
    "\n",
    "\n",
    "nx_graph = nx.read_graphml(\"../data/users_infected_diffusion1.graphml\")\n",
    "nx.set_node_attributes(nx_graph, name=\"hate\", values=-1)\n",
    "nx.set_node_attributes(nx_graph, name=\"hate\", values=set_users)\n",
    "nx.write_graphml(nx_graph, \"../data/users_hate.graphml\")"
   ]
  }
 ],
 "metadata": {
  "kernelspec": {
   "display_name": "abusive_users_osn",
   "language": "python",
   "name": "abusive_users_osn"
  },
  "language_info": {
   "codemirror_mode": {
    "name": "ipython",
    "version": 3
   },
   "file_extension": ".py",
   "mimetype": "text/x-python",
   "name": "python",
   "nbconvert_exporter": "python",
   "pygments_lexer": "ipython3",
   "version": "3.5.3"
  }
 },
 "nbformat": 4,
 "nbformat_minor": 2
}
